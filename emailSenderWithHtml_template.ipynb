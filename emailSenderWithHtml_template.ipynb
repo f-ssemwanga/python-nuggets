{
 "cells": [
  {
   "cell_type": "markdown",
   "metadata": {},
   "source": [
    "### Email Sender with HTML Template\n",
    "- Requires an HTML Template - to substitute variables inside text\n",
    "![String template Illustration](./images/string_template.png)\n",
    "- [A good read about Pathlib](https://treyhunner.com/2018/12/why-you-should-be-using-pathlib/) which will allow us to \"Stringify\" the HTML file "
   ]
  },
  {
   "cell_type": "code",
   "execution_count": 16,
   "metadata": {},
   "outputs": [],
   "source": [
    "#import required modules\n",
    "import smtplib\n",
    "from email.message import EmailMessage\n",
    "import json\n",
    "from string import Template #for string / template substitution\n",
    "from pathlib import Path #enables connection to the HTML template / similar to os.path"
   ]
  },
  {
   "cell_type": "code",
   "execution_count": 17,
   "metadata": {},
   "outputs": [
    {
     "name": "stdout",
     "output_type": "stream",
     "text": [
      "<string.Template object at 0x0000018B2F4E6110>\n"
     ]
    }
   ],
   "source": [
    "# Read the html text using pathlib and wrap all of it into a Template object\n",
    "# we can then substitute values into the template object\n",
    "html = Template(Path('index.html').read_text())\n",
    "print(html)"
   ]
  },
  {
   "cell_type": "code",
   "execution_count": 18,
   "metadata": {},
   "outputs": [
    {
     "name": "stdout",
     "output_type": "stream",
     "text": [
      "Adam Algorithms\n"
     ]
    }
   ],
   "source": [
    "#Read in student information from the Jason\n",
    "with open('student_info.json') as stinfo:\n",
    "  student = json.load(stinfo)\n",
    "  studentName = student['Student01']['name']\n",
    "  topic = student['Student01']['Topic']\n",
    "  \n",
    "  print(studentName , topic)\n",
    "  "
   ]
  },
  {
   "cell_type": "code",
   "execution_count": 20,
   "metadata": {},
   "outputs": [
    {
     "name": "stdout",
     "output_type": "stream",
     "text": [
      "email sent success!\n"
     ]
    }
   ],
   "source": [
    "#Sending an email\n",
    "\n",
    "#email setup\n",
    "email  = EmailMessage()\n",
    "email['from'] = 'dssales@gmx.com'\n",
    "email['to'] = 'fssemwanga@gmail.com'\n",
    "email['subject'] = \"Teacher Feedback\"\n",
    "email.set_content(html.substitute({'name':studentName,'topic':topic }), 'html') # use a dictionary for multiple variables\n",
    "\n",
    "#load configurations file holding confidential info\n",
    "with open('config.json') as config_file:\n",
    "  config = json.load(config_file)\n",
    "smtp_password = config['smtp']['password']\n",
    "smtp_email = config['smtp']['email']\n",
    "\n",
    "#smtp server\n",
    "with smtplib.SMTP(host='smtp.gmx.com', port=587) as smtp:\n",
    "  #handshake\n",
    "  smtp.ehlo()\n",
    "  #encryption\n",
    "  smtp.starttls()\n",
    "  #connect to the mail client for testing purposes\n",
    "  #smtp.set_debuglevel(1)\n",
    "  smtp.login(smtp_email, smtp_password)\n",
    "  smtp.send_message(email)\n",
    "  print('email sent success!')\n",
    "\n",
    "\n",
    "\n",
    "\n"
   ]
  }
 ],
 "metadata": {
  "kernelspec": {
   "display_name": "Python 3",
   "language": "python",
   "name": "python3"
  },
  "language_info": {
   "codemirror_mode": {
    "name": "ipython",
    "version": 3
   },
   "file_extension": ".py",
   "mimetype": "text/x-python",
   "name": "python",
   "nbconvert_exporter": "python",
   "pygments_lexer": "ipython3",
   "version": "3.11.4"
  },
  "orig_nbformat": 4
 },
 "nbformat": 4,
 "nbformat_minor": 2
}
