{
 "cells": [
  {
   "cell_type": "markdown",
   "metadata": {},
   "source": [
    "# Regular Expressions"
   ]
  },
  {
   "cell_type": "markdown",
   "metadata": {},
   "source": [
    "#### Simple patterns"
   ]
  },
  {
   "cell_type": "code",
   "execution_count": 2,
   "metadata": {},
   "outputs": [
    {
     "name": "stdout",
     "output_type": "stream",
     "text": [
      "<re.Match object; span=(0, 4), match='this'>\n"
     ]
    }
   ],
   "source": [
    "import re\n",
    "\n",
    "string = 'this searches inside of this text to find this string'\n",
    "\n",
    "#finding a string\n",
    "# returns a match object with span and match\n",
    "result = re.search('this', string)\n",
    "print(result)"
   ]
  },
  {
   "cell_type": "code",
   "execution_count": 3,
   "metadata": {},
   "outputs": [
    {
     "name": "stdout",
     "output_type": "stream",
     "text": [
      "(0, 4)\n",
      "0\n",
      "4\n",
      "this\n"
     ]
    }
   ],
   "source": [
    "print(result.span())\n",
    "print(result.start())\n",
    "print(result.end())\n",
    "print(result.group())"
   ]
  },
  {
   "cell_type": "code",
   "execution_count": 4,
   "metadata": {},
   "outputs": [
    {
     "name": "stdout",
     "output_type": "stream",
     "text": [
      "<re.Match object; span=(0, 4), match='this'>\n"
     ]
    }
   ],
   "source": [
    "\n",
    "pattern  = re.compile('this')\n",
    "result2 = pattern.search(string)\n",
    "print(result2)"
   ]
  },
  {
   "cell_type": "code",
   "execution_count": 5,
   "metadata": {},
   "outputs": [
    {
     "name": "stdout",
     "output_type": "stream",
     "text": [
      "<re.Match object; span=(0, 4), match='this'>\n",
      "['this', 'this', 'this']\n",
      "None\n",
      "<re.Match object; span=(0, 4), match='this'>\n"
     ]
    }
   ],
   "source": [
    "a = pattern.search (string)\n",
    "b = pattern.findall(string)\n",
    "c = pattern.fullmatch(string) # needs to match the full string\n",
    "d = pattern.match(string)\n",
    "\n",
    "print(f'{a}\\n{b}\\n{c}\\n{d}')"
   ]
  },
  {
   "cell_type": "markdown",
   "metadata": {},
   "source": [
    "#### Advanced pattern matching\n",
    "1. [Regular Expression Reference Resource](https://www.w3schools.com/python/python_regex.asp)\n",
    "2. [REGEX 101](https://regex101.com/)\n",
    "\n",
    "***Exemplar Use case - Collecting Emails***\n",
    "[Email Regex Resource](https://emailregex.com/)"
   ]
  },
  {
   "cell_type": "code",
   "execution_count": 6,
   "metadata": {},
   "outputs": [
    {
     "name": "stdout",
     "output_type": "stream",
     "text": [
      "<re.Match object; span=(0, 8), match='be@b.com'>\n"
     ]
    }
   ],
   "source": [
    "#email validation\n",
    "pattern = re.compile(r\"(^[a-zA-Z0-9_.+-]+@[a-zA-Z0-9-]+\\.[a-zA-Z0-9-.]+$)\")\n",
    "string = 'be@b.com'\n",
    "\n",
    "a = pattern.search(string)\n",
    "print(a)\n"
   ]
  },
  {
   "cell_type": "markdown",
   "metadata": {},
   "source": [
    "#### Task\n",
    "- create a password checker which is 8 characters long\n",
    "- can contain any sort of letters, numbers \n",
    "- these symbols $%#@\n",
    "- Ends with  the digit 8\n"
   ]
  },
  {
   "cell_type": "code",
   "execution_count": 8,
   "metadata": {},
   "outputs": [
    {
     "name": "stdout",
     "output_type": "stream",
     "text": [
      "None\n"
     ]
    }
   ],
   "source": [
    "pattern3 = re.compile(r\"[A-Za-z0-9$%#@]{8,}\\d\")\n",
    "\n",
    "password = 'kkkhsdsd55776^%'\n",
    "check = pattern3.fullmatch(password)\n",
    "print(check)"
   ]
  }
 ],
 "metadata": {
  "kernelspec": {
   "display_name": "Python 3",
   "language": "python",
   "name": "python3"
  },
  "language_info": {
   "codemirror_mode": {
    "name": "ipython",
    "version": 3
   },
   "file_extension": ".py",
   "mimetype": "text/x-python",
   "name": "python",
   "nbconvert_exporter": "python",
   "pygments_lexer": "ipython3",
   "version": "3.11.4"
  },
  "orig_nbformat": 4
 },
 "nbformat": 4,
 "nbformat_minor": 2
}
