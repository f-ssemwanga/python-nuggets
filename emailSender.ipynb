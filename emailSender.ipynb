{
 "cells": [
  {
   "cell_type": "markdown",
   "metadata": {},
   "source": [
    "### Sending Emails with Python\n",
    "- SMTP module creates an email server"
   ]
  },
  {
   "cell_type": "code",
   "execution_count": 1,
   "metadata": {},
   "outputs": [],
   "source": [
    "#import required modules\n",
    "import smtplib  \n",
    "from email.message import EmailMessage"
   ]
  },
  {
   "cell_type": "code",
   "execution_count": null,
   "metadata": {},
   "outputs": [],
   "source": [
    "#Sending an email\n",
    "\n",
    "#email setup\n",
    "email  = EmailMessage()\n",
    "email['from'] = 'Francis Ssemwanga'\n",
    "email['to'] = 'f.ssemwanga@stmarys.net'\n",
    "email['subject'] = \"Test email from Python\"\n",
    "email.set_content('I am a python bot tring to test your account')\n",
    "\n",
    "#smtp server\n",
    "with smtplib.SMTP(host='smtp.gmail.com', port='587') as smtp:\n",
    "  #handshake\n",
    "  smtp.ehlo()\n",
    "  #encryption\n",
    "  smtp.starttls()\n",
    "  #connect to the mail client\n",
    "  smtp.login('fssemwanga@gmail.com')\n",
    "\n",
    "\n",
    "\n",
    "\n"
   ]
  }
 ],
 "metadata": {
  "kernelspec": {
   "display_name": "Python 3",
   "language": "python",
   "name": "python3"
  },
  "language_info": {
   "codemirror_mode": {
    "name": "ipython",
    "version": 3
   },
   "file_extension": ".py",
   "mimetype": "text/x-python",
   "name": "python",
   "nbconvert_exporter": "python",
   "pygments_lexer": "ipython3",
   "version": "3.11.4"
  },
  "orig_nbformat": 4
 },
 "nbformat": 4,
 "nbformat_minor": 2
}
