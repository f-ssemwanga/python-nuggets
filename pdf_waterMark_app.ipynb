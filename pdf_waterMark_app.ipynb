{
 "cells": [
  {
   "cell_type": "markdown",
   "metadata": {},
   "source": [
    "### Tool to watermark a pdf file\n",
    "- Apply a watermark in wtr.pdf on to all the pages in super.pdf\n",
    "\n",
    "***Algorithm***\n",
    "\n"
   ]
  },
  {
   "cell_type": "code",
   "execution_count": 2,
   "metadata": {},
   "outputs": [],
   "source": [
    "#import required modules\n",
    "import PyPDF2"
   ]
  },
  {
   "cell_type": "code",
   "execution_count": 11,
   "metadata": {},
   "outputs": [],
   "source": [
    "def pdf_waterMarker():\n",
    "  template = PyPDF2.PdfReader(open('./pdfs/super.pdf', 'rb')) # open the file\n",
    "  watermark = PyPDF2.PdfReader(open('./pdfs/wtr.pdf', 'rb'))\n",
    "  \n",
    "  #write the output\n",
    "  output = PyPDF2.PdfWriter() # creates an object in memory\n",
    "  \n",
    "  #loop through the pages of the template and add the watermark\n",
    "  for i in range(len(template.pages)):\n",
    "    page = template.pages[i]\n",
    "    page.merge_page(watermark.pages[0]) # merge watermark on to the page\n",
    "    output.add_page(page)\n",
    "    \n",
    "    with open('./pdfs/water_marked_output.pdf', 'wb') as file:\n",
    "      output.write(file)\n",
    "      \n",
    "  "
   ]
  },
  {
   "cell_type": "code",
   "execution_count": 12,
   "metadata": {},
   "outputs": [],
   "source": [
    "pdf_waterMarker()"
   ]
  }
 ],
 "metadata": {
  "kernelspec": {
   "display_name": "Python 3",
   "language": "python",
   "name": "python3"
  },
  "language_info": {
   "codemirror_mode": {
    "name": "ipython",
    "version": 3
   },
   "file_extension": ".py",
   "mimetype": "text/x-python",
   "name": "python",
   "nbconvert_exporter": "python",
   "pygments_lexer": "ipython3",
   "version": "3.11.4"
  },
  "orig_nbformat": 4
 },
 "nbformat": 4,
 "nbformat_minor": 2
}
