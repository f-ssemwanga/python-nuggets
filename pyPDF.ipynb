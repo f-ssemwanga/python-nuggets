{
 "cells": [
  {
   "cell_type": "markdown",
   "metadata": {},
   "source": [
    "### Processing PDFs\n",
    "\n",
    "[PDF processing library](https://pypdf2.readthedocs.io/en/latest/)\n",
    "- pypdf library is capable of splitting, merging, cropping and transforming pdf pages.  it can also add custom view options and passwords to pdf fildes as well as retrieving meta data from pdfs"
   ]
  },
  {
   "cell_type": "code",
   "execution_count": 1,
   "metadata": {},
   "outputs": [
    {
     "name": "stdout",
     "output_type": "stream",
     "text": [
      "Requirement already satisfied: PyPDF2 in c:\\users\\fssemwanga\\appdata\\local\\programs\\python\\python311\\lib\\site-packages (3.0.1)\n"
     ]
    },
    {
     "name": "stderr",
     "output_type": "stream",
     "text": [
      "\n",
      "[notice] A new release of pip is available: 23.2 -> 23.2.1\n",
      "[notice] To update, run: python.exe -m pip install --upgrade pip\n"
     ]
    }
   ],
   "source": [
    "#installing the module\n",
    "!pip3 install PyPDF2"
   ]
  },
  {
   "cell_type": "code",
   "execution_count": 5,
   "metadata": {},
   "outputs": [],
   "source": [
    "import PyPDF2"
   ]
  },
  {
   "cell_type": "code",
   "execution_count": 9,
   "metadata": {},
   "outputs": [
    {
     "name": "stdout",
     "output_type": "stream",
     "text": [
      "<_io.BufferedReader name='./pdfs/twopage.pdf'>\n",
      "2\n"
     ]
    }
   ],
   "source": [
    "with open('./pdfs/twopage.pdf', 'rb') as file:\n",
    "  print(file) # returns a file object\n",
    "  reader = PyPDF2.PdfReader(file)\n",
    "  print(len(reader.pages))"
   ]
  },
  {
   "cell_type": "code",
   "execution_count": 12,
   "metadata": {},
   "outputs": [
    {
     "name": "stdout",
     "output_type": "stream",
     "text": [
      "{'/Type': '/Page', '/Parent': IndirectObject(3, 0, 2258874360848), '/Resources': {'/Font': {'/F1': IndirectObject(9, 0, 2258874360848)}, '/ProcSet': IndirectObject(8, 0, 2258874360848)}, '/MediaBox': [0, 0, 612, 792], '/Contents': IndirectObject(7, 0, 2258874360848)}\n"
     ]
    }
   ],
   "source": [
    "print(reader.pages[1])"
   ]
  },
  {
   "cell_type": "code",
   "execution_count": 22,
   "metadata": {},
   "outputs": [],
   "source": [
    "#writing to a new file\n",
    "with open('./pdfs/twopage.pdf', 'rb') as file:\n",
    "  reader = PyPDF2.PdfReader(file)\n",
    "  page = reader.pages[0]\n",
    "  rotatedpage = page.rotate(90)\n",
    "  writer = PyPDF2.PdfWriter()\n",
    "  writer.add_page(rotatedpage)\n",
    "  with open('./pdfs/tilt.pdf', 'wb') as towrite:\n",
    "    writer.write(towrite)"
   ]
  },
  {
   "cell_type": "code",
   "execution_count": null,
   "metadata": {},
   "outputs": [],
   "source": []
  }
 ],
 "metadata": {
  "kernelspec": {
   "display_name": "Python 3",
   "language": "python",
   "name": "python3"
  },
  "language_info": {
   "codemirror_mode": {
    "name": "ipython",
    "version": 3
   },
   "file_extension": ".py",
   "mimetype": "text/x-python",
   "name": "python",
   "nbconvert_exporter": "python",
   "pygments_lexer": "ipython3",
   "version": "3.11.4"
  },
  "orig_nbformat": 4
 },
 "nbformat": 4,
 "nbformat_minor": 2
}
