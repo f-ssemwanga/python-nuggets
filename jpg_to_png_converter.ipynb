{
 "cells": [
  {
   "cell_type": "markdown",
   "metadata": {},
   "source": [
    "# Python JPG to PNG Converter App\n",
    "\n",
    "- takes a folder containing the  images (curretImages and convertedImages) as arguments\n",
    "- create a new folder (convertedImages)\n",
    "- Converts images in the currentImages folder to png and saves them into the converted images folder\n",
    "\n",
    "***Algorithm - plan***\n",
    "- grab folder arguments\n",
    "- check if the convertedImages folder exists and if it does not create it\n",
    "- loop over all the images in the currentImages folder\n",
    "- convert them to png and save the converted images to the convertedImages folder"
   ]
  },
  {
   "cell_type": "code",
   "execution_count": 1,
   "metadata": {},
   "outputs": [],
   "source": [
    "#required imports\n",
    "import sys\n",
    "import os\n",
    "from PIL import  Image as img"
   ]
  },
  {
   "cell_type": "code",
   "execution_count": 7,
   "metadata": {},
   "outputs": [],
   "source": [
    "def jpg_to_png_converter(currentImages,convertedImages):\n",
    "  ''' Converter function'''\n",
    "  #check if the converted images folder exists and if not create one\n",
    "  if not os.path.exists(convertedImages):\n",
    "    try:\n",
    "      os.makedirs(convertedImages)\n",
    "      print(f'Created {convertedImages} folder')\n",
    "    except OSError as err:\n",
    "      print('Error creating the {convertedImages} folder', err)\n",
    "      return\n",
    "  #iterate through JPGs in currentImages folder\n",
    "  for filename in os.listdir(currentImages):\n",
    "    jpg_path = os.path.join(currentImages, filename)\n",
    "    png_filename = os.path.splitext(filename)[0]+ '.png'\n",
    "    png_path = os.path.join(convertedImages, png_filename)\n",
    "    \n",
    "    #convert JPG to PNG using Pillow\n",
    "    try:\n",
    "      img = Image.open(jpg_path)\n",
    "      img.save(png_path, 'PNG')\n",
    "      print(f'Converted  {jpg_path} to {png_path}')\n",
    "    except Exception as err:\n",
    "      print(f'Error converting {jpg_path} to PNG', err)\n"
   ]
  },
  {
   "cell_type": "code",
   "execution_count": null,
   "metadata": {},
   "outputs": [],
   "source": [
    "#paths to images\n",
    "currentImages = './currentImages/'\n",
    "convertedImages ='./convertedImages'\n",
    "\n",
    "#function call\n",
    "jpg_to_png_converter(currentImages, convertedImages)"
   ]
  }
 ],
 "metadata": {
  "kernelspec": {
   "display_name": "Python 3",
   "language": "python",
   "name": "python3"
  },
  "language_info": {
   "codemirror_mode": {
    "name": "ipython",
    "version": 3
   },
   "file_extension": ".py",
   "mimetype": "text/x-python",
   "name": "python",
   "nbconvert_exporter": "python",
   "pygments_lexer": "ipython3",
   "version": "3.11.4"
  },
  "orig_nbformat": 4
 },
 "nbformat": 4,
 "nbformat_minor": 2
}
