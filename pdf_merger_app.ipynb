{
 "cells": [
  {
   "cell_type": "markdown",
   "metadata": {},
   "source": [
    "### Python Merger App\n",
    "- Merges a list of pdf into one file"
   ]
  },
  {
   "cell_type": "code",
   "execution_count": 1,
   "metadata": {},
   "outputs": [],
   "source": [
    "#importing requried modules\n",
    "from PyPDF2 import PdfMerger\n",
    "import os"
   ]
  },
  {
   "cell_type": "code",
   "execution_count": 6,
   "metadata": {},
   "outputs": [],
   "source": [
    "def merge_pdfs(inputs):\n",
    "  merger = PdfMerger()\n",
    " \n",
    "  for pdf_file in inputs:\n",
    "    full_path = os.path.join('./pdfs', pdf_file)\n",
    "    merger.append(full_path)\n",
    "  \n",
    "  output_file = \"./pdfs/merged.pdf\"\n",
    "  merger.write(output_file)\n",
    "  merger.close()\n",
    "  print(\"PDFs merged successfully into\", output_file)\n",
    "  "
   ]
  },
  {
   "cell_type": "code",
   "execution_count": 7,
   "metadata": {},
   "outputs": [
    {
     "name": "stdout",
     "output_type": "stream",
     "text": [
      "PDFs merged successfully into ./pdfs/merged.pdf\n"
     ]
    }
   ],
   "source": [
    "merge_pdfs(['tilt.pdf', 'dummy.pdf', 'wtr.pdf'])"
   ]
  }
 ],
 "metadata": {
  "kernelspec": {
   "display_name": "Python 3",
   "language": "python",
   "name": "python3"
  },
  "language_info": {
   "codemirror_mode": {
    "name": "ipython",
    "version": 3
   },
   "file_extension": ".py",
   "mimetype": "text/x-python",
   "name": "python",
   "nbconvert_exporter": "python",
   "pygments_lexer": "ipython3",
   "version": "3.11.4"
  },
  "orig_nbformat": 4
 },
 "nbformat": 4,
 "nbformat_minor": 2
}
