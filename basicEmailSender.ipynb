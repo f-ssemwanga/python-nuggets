{
 "cells": [
  {
   "cell_type": "markdown",
   "metadata": {},
   "source": [
    "### Basic Email Sender\n",
    "- SMTP module creates an email server"
   ]
  },
  {
   "cell_type": "code",
   "execution_count": 13,
   "metadata": {},
   "outputs": [],
   "source": [
    "#import required modules\n",
    "import smtplib\n",
    "from email.message import EmailMessage\n",
    "import json"
   ]
  },
  {
   "cell_type": "code",
   "execution_count": null,
   "metadata": {},
   "outputs": [],
   "source": [
    "#Sending an email\n",
    "\n",
    "#email setup\n",
    "email  = EmailMessage()\n",
    "email['from'] = 'dssales@gmx.com'\n",
    "email['to'] = 'f.ssemwanga@stmarys.net'\n",
    "email['subject'] = \"Test email from Python\"\n",
    "email.set_content('I am a python bot tring to test your account')\n",
    "\n",
    "#load configurations file holding confidential info\n",
    "with open('config.json') as config_file:\n",
    "  config = json.load(config_file)\n",
    "smtp_password = config['smtp']['password']\n",
    "smtp_email = config['smtp']['email']\n",
    "\n",
    "#smtp server\n",
    "with smtplib.SMTP(host='smtp.gmx.com', port=587) as smtp:\n",
    "  #handshake\n",
    "  smtp.ehlo()\n",
    "  #encryption\n",
    "  smtp.starttls()\n",
    "  #connect to the mail client for testing purposes\n",
    "  #smtp.set_debuglevel(1)\n",
    "  smtp.login(smtp_email, smtp_password)\n",
    "  smtp.send_message(email)\n",
    "  print('email sent success!')\n",
    "\n",
    "\n",
    "\n",
    "\n"
   ]
  }
 ],
 "metadata": {
  "kernelspec": {
   "display_name": "Python 3",
   "language": "python",
   "name": "python3"
  },
  "language_info": {
   "codemirror_mode": {
    "name": "ipython",
    "version": 3
   },
   "file_extension": ".py",
   "mimetype": "text/x-python",
   "name": "python",
   "nbconvert_exporter": "python",
   "pygments_lexer": "ipython3",
   "version": "3.11.4"
  },
  "orig_nbformat": 4
 },
 "nbformat": 4,
 "nbformat_minor": 2
}
