{
 "cells": [
  {
   "cell_type": "markdown",
   "metadata": {},
   "source": [
    "### Multiple Email Sender\n",
    "- Requires an HTML Template - to substitute variables inside text\n",
    "\n",
    "- [A good read about Pathlib](https://treyhunner.com/2018/12/why-you-should-be-using-pathlib/) which will allow us to \"Stringify\" the HTML file "
   ]
  },
  {
   "cell_type": "code",
   "execution_count": 3,
   "metadata": {},
   "outputs": [],
   "source": [
    "#import required modules\n",
    "import smtplib\n",
    "from email.message import EmailMessage\n",
    "import json\n",
    "from string import Template #for string / template substitution\n",
    "from pathlib import Path #enables connection to the HTML template / similar to os.path"
   ]
  },
  {
   "cell_type": "code",
   "execution_count": 6,
   "metadata": {},
   "outputs": [],
   "source": [
    "# Read the html text using pathlib and wrap all of it into a Template object\n",
    "# we can then substitute values into the template object\n",
    "html = Template(Path('index.html').read_text())\n"
   ]
  },
  {
   "cell_type": "code",
   "execution_count": 4,
   "metadata": {},
   "outputs": [],
   "source": [
    "#Read in student information from the JSON\n",
    "with open('student_info.json') as stinfo:\n",
    "  students = json.load(stinfo)"
   ]
  },
  {
   "cell_type": "code",
   "execution_count": 5,
   "metadata": {},
   "outputs": [],
   "source": [
    "#smtp server config\n",
    "with open('config.json') as config_file:\n",
    "  config = json.load(config_file)\n",
    "smtp_password = config['smtp']['password']\n",
    "smtp_email = config['smtp']['email']\n"
   ]
  },
  {
   "cell_type": "code",
   "execution_count": null,
   "metadata": {},
   "outputs": [],
   "source": [
    "#Iterate through students and send emails\n",
    "for student_key, student_data in students.items():\n",
    "  student_name = student_data['name']\n",
    "  topic = student_data['Topic']\n",
    "  student_email = student_data['email']\n",
    "  \n",
    "  #sending an email\n",
    "  email = EmailMessage()\n",
    "  email['from'] = stmp_email\n",
    "  email['to'] = student_email\n",
    "  email['subject'] = \"Teacher Feedback\"\n",
    "  email.set.content(html.substitute({'name': student_name, 'topic': topic}), html)\n",
    "\n",
    "  #SMTP Server\n",
    "  with smtplib.SMTP(host='smtp.gmx.com', port=587) as smtp:\n",
    "    #handshake\n",
    "    smtp.ehlo()\n",
    "    #encryption\n",
    "    smtp.starttls()\n",
    "    #connect to the mail client for testing purposes\n",
    "    #smtp.set_debuglevel(1)\n",
    "    smtp.login(smtp_email, smtp_password)\n",
    "    smtp.send_message(email)\n",
    "    print(f\"Email sent to {student_name} at {student_email}\")\n"
   ]
  }
 ],
 "metadata": {
  "kernelspec": {
   "display_name": "Python 3",
   "language": "python",
   "name": "python3"
  },
  "language_info": {
   "codemirror_mode": {
    "name": "ipython",
    "version": 3
   },
   "file_extension": ".py",
   "mimetype": "text/x-python",
   "name": "python",
   "nbconvert_exporter": "python",
   "pygments_lexer": "ipython3",
   "version": "3.11.4"
  },
  "orig_nbformat": 4
 },
 "nbformat": 4,
 "nbformat_minor": 2
}
